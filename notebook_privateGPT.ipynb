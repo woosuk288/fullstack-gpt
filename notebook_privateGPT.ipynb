{
 "cells": [
  {
   "cell_type": "code",
   "execution_count": 9,
   "metadata": {},
   "outputs": [
    {
     "name": "stderr",
     "output_type": "stream",
     "text": [
      "Using pad_token, but it is not set yet.\n",
      "Setting `pad_token_id` to `eos_token_id`:50256 for open-end generation.\n"
     ]
    },
    {
     "name": "stdout",
     "output_type": "stream",
     "text": [
      " good candidate for a healthy meal—it brings out the best qualities of its food.\n",
      "\n",
      "\n",
      "But it could just as easily be used as a raw, hard shell. A hard shell is usually a kind of hard shell; in some cases a tomato can be made easily. If you really like raw or hard shells you can make tomatoes with a mixture of whole or whole lemons or even grape juice. In this method you can put the mixture into the oven directly in an open baking dish. After the tomatoes ripen (or you could simply mash them on their own), you can add them to the top of the baked pasta or other cooking liquid to the bottom of the dish. As you bake, that mixture will turn into a nice soft,\n"
     ]
    }
   ],
   "source": [
    "from langchain.llms.huggingface_pipeline import HuggingFacePipeline\n",
    "from langchain.prompts import PromptTemplate\n",
    "\n",
    "prompt = PromptTemplate.from_template(\"A {word} is a\")\n",
    "\n",
    "llm = HuggingFacePipeline.from_model_id(\n",
    "    model_id=\"gpt2\", task=\"text-generation\", pipeline_kwargs={\"max_new_tokens\": 50}\n",
    ")\n",
    "\n",
    "chain = prompt | llm\n",
    "print(chain.invoke({\"word\": \"tomato\"}))"
   ]
  }
 ],
 "metadata": {
  "kernelspec": {
   "display_name": "env",
   "language": "python",
   "name": "python3"
  },
  "language_info": {
   "codemirror_mode": {
    "name": "ipython",
    "version": 3
   },
   "file_extension": ".py",
   "mimetype": "text/x-python",
   "name": "python",
   "nbconvert_exporter": "python",
   "pygments_lexer": "ipython3",
   "version": "3.11.9"
  }
 },
 "nbformat": 4,
 "nbformat_minor": 2
}
