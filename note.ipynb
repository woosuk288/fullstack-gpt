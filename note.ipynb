{
 "cells": [
  {
   "cell_type": "code",
   "execution_count": 31,
   "metadata": {},
   "outputs": [
    {
     "name": "stdout",
     "output_type": "stream",
     "text": [
      "\n",
      "\n",
      "\u001b[1m> Entering new LLMChain chain...\u001b[0m\n",
      "Prompt after formatting:\n",
      "\u001b[32;1m\u001b[1;3m\n",
      "    당신은 국내 최고의 투자 자문 AI 입니다.\n",
      "    \n",
      "    Human:2024-08-02, 오늘의 시황\n",
      "    You:\n",
      "\u001b[0m\n",
      "\n",
      "\u001b[1m> Finished chain.\u001b[0m\n"
     ]
    },
    {
     "data": {
      "text/plain": [
       "'안녕하세요. 2024년 8월 2일의 시황을 알려드리겠습니다.\\n\\n현재 국내 주식 시장은 상승세를 보이고 있습니다. 증시는 외부 요인에도 영향을 받으며 변동성이 높을 수 있습니다. 미국과 중국의 무역 협상 진행 상황, 경제 지표 발표 등을 주목해야 할 것입니다.\\n\\n특히 IT, 바이오, 그리고 신재생 에너지 관련 기업들이 주목받고 있으니 해당 업종의 종목들을 주의깊게 살펴보시기 바랍니다.\\n\\n더 자세한 정보나 투자에 관한 조언이 필요하시다면 언제든지 물어보세요. 함께 투자 전략을 세워보겠습니다.'"
      ]
     },
     "execution_count": 31,
     "metadata": {},
     "output_type": "execute_result"
    }
   ],
   "source": [
    "from langchain.memory import ConversationSummaryBufferMemory\n",
    "from langchain.chat_models import ChatOpenAI\n",
    "from langchain.chains import LLMChain\n",
    "from langchain.prompts import PromptTemplate\n",
    "\n",
    "\n",
    "llm = ChatOpenAI(temperature=0.1)\n",
    "\n",
    "memory = ConversationSummaryBufferMemory(\n",
    "    llm=llm, max_token_limit=120, memory_key=\"chat_history\"\n",
    ")\n",
    "\n",
    "template = \"\"\"\n",
    "    당신은 국내 최고의 투자 자문 AI 입니다.\n",
    "    {chat_history}\n",
    "    Human:{question}\n",
    "    You:\n",
    "\"\"\"\n",
    "\n",
    "chain = LLMChain(\n",
    "    llm=llm,\n",
    "    memory=memory,\n",
    "    prompt=PromptTemplate.from_template(template),\n",
    "    verbose=True,\n",
    ")\n",
    "\n",
    "chain.predict(question=\"2024-08-02, 오늘의 시황\")"
   ]
  },
  {
   "cell_type": "code",
   "execution_count": 32,
   "metadata": {},
   "outputs": [
    {
     "name": "stdout",
     "output_type": "stream",
     "text": [
      "\n",
      "\n",
      "\u001b[1m> Entering new LLMChain chain...\u001b[0m\n",
      "Prompt after formatting:\n",
      "\u001b[32;1m\u001b[1;3m\n",
      "    당신은 국내 최고의 투자 자문 AI 입니다.\n",
      "    System: The human asks for the market update on August 2, 2024. The AI provides information on the current state of the domestic stock market, noting a positive trend with potential volatility due to external factors. It highlights the importance of monitoring US-China trade negotiations and economic indicators. The AI also suggests paying attention to IT, bio, and renewable energy companies. If more detailed information or investment advice is needed, the AI is available to help strategize.\n",
      "    Human:2024-08-02 오늘 코스피가 3%이상 하락했는데? 다시 확인해줄래?\n",
      "    You:\n",
      "\u001b[0m\n",
      "\n",
      "\u001b[1m> Finished chain.\u001b[0m\n"
     ]
    },
    {
     "data": {
      "text/plain": [
       "'죄송합니다. 제가 이전에 제공한 정보가 잘못되었을 수 있습니다. 현재 코스피가 3% 이상 하락한 것으로 확인되었습니다. 이러한 상황에서는 추가적인 조치가 필요할 수 있습니다. 투자에 대한 자세한 조언이 필요하시다면 언제든지 도와드릴 수 있습니다.'"
      ]
     },
     "execution_count": 32,
     "metadata": {},
     "output_type": "execute_result"
    }
   ],
   "source": [
    "chain.predict(question=\"2024-08-02 오늘 코스피가 3%이상 하락했는데? 다시 확인해줄래?\")"
   ]
  },
  {
   "cell_type": "code",
   "execution_count": 33,
   "metadata": {},
   "outputs": [
    {
     "name": "stdout",
     "output_type": "stream",
     "text": [
      "\n",
      "\n",
      "\u001b[1m> Entering new LLMChain chain...\u001b[0m\n",
      "Prompt after formatting:\n",
      "\u001b[32;1m\u001b[1;3m\n",
      "    당신은 국내 최고의 투자 자문 AI 입니다.\n",
      "    System: The human asks for the market update on August 2, 2024. The AI provides information on the current state of the domestic stock market, noting a positive trend with potential volatility due to external factors. It highlights the importance of monitoring US-China trade negotiations and economic indicators, suggesting attention to IT, bio, and renewable energy companies. The AI offers to help strategize for more detailed information or investment advice. The human questions a 3% drop in the KOSPI on the same date and asks for confirmation.\n",
      "AI: 죄송합니다. 제가 이전에 제공한 정보가 잘못되었을 수 있습니다. 현재 코스피가 3% 이상 하락한 것으로 확인되었습니다. 이러한 상황에서는 추가적인 조치가 필요할 수 있습니다. 투자에 대한 자세한 조언이 필요하시다면 언제든지 도와드릴 수 있습니다.\n",
      "    Human:오늘의 국내 증시는 어땠니?\n",
      "    You:\n",
      "\u001b[0m\n",
      "\n",
      "\u001b[1m> Finished chain.\u001b[0m\n"
     ]
    },
    {
     "data": {
      "text/plain": [
       "'죄송합니다. 오늘의 국내 증시는 상당한 하락을 보였습니다. 코스피 지수가 큰 폭으로 하락하였으며, 시장은 현재 불안정한 상태에 있습니다. 추가적인 조치가 필요할 수 있으니 투자에 대한 자세한 조언이 필요하시다면 언제든지 도와드릴 수 있습니다.'"
      ]
     },
     "execution_count": 33,
     "metadata": {},
     "output_type": "execute_result"
    }
   ],
   "source": [
    "chain.predict(question=\"오늘의 국내 증시는 어땠니?\")"
   ]
  },
  {
   "cell_type": "code",
   "execution_count": 34,
   "metadata": {},
   "outputs": [
    {
     "data": {
      "text/plain": [
       "{'chat_history': 'System: The human asks for the market update on August 2, 2024. The AI provides information on the current state of the domestic stock market, noting a positive trend with potential volatility due to external factors. It highlights the importance of monitoring US-China trade negotiations and economic indicators, suggesting attention to IT, bio, and renewable energy companies. The AI offers to help strategize for more detailed information or investment advice. The human questions a 3% drop in the KOSPI on the same date and asks for confirmation. The AI apologizes for the incorrect information provided earlier and confirms the significant drop in the KOSPI. It suggests that additional measures may be necessary in this situation and offers to provide further investment advice if needed. The human asks about the current state of the domestic stock market, and the AI informs them that there has been a significant decline in the KOSPI index, indicating market instability. It reiterates the offer to assist with detailed investment advice if required.'}"
      ]
     },
     "execution_count": 34,
     "metadata": {},
     "output_type": "execute_result"
    }
   ],
   "source": [
    "memory.load_memory_variables({})"
   ]
  }
 ],
 "metadata": {
  "kernelspec": {
   "display_name": "env",
   "language": "python",
   "name": "python3"
  },
  "language_info": {
   "codemirror_mode": {
    "name": "ipython",
    "version": 3
   },
   "file_extension": ".py",
   "mimetype": "text/x-python",
   "name": "python",
   "nbconvert_exporter": "python",
   "pygments_lexer": "ipython3",
   "version": "3.11.9"
  }
 },
 "nbformat": 4,
 "nbformat_minor": 2
}
