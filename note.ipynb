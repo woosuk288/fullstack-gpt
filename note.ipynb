{
 "cells": [
  {
   "cell_type": "code",
   "execution_count": 44,
   "metadata": {},
   "outputs": [
    {
     "name": "stdout",
     "output_type": "stream",
     "text": [
      "\n",
      "\n",
      "\u001b[1m> Entering new LLMChain chain...\u001b[0m\n",
      "Prompt after formatting:\n",
      "\u001b[32;1m\u001b[1;3mSystem: 당신은 국내 최고의 투자 자문 AI 입니다.\n",
      "Human: 2024-08-02, 오늘의 시황\u001b[0m\n",
      "\n",
      "\u001b[1m> Finished chain.\u001b[0m\n"
     ]
    },
    {
     "data": {
      "text/plain": [
       "'안녕하세요. 2024년 8월 2일의 금융 시장은 전반적으로 안정적인 모습을 보이고 있습니다. 미국 주요 지수인 다우존스, S&P 500, 나스닥은 상승세를 보이고 있으며, 유럽과 아시아의 증시도 대체로 상승하고 있습니다. 미국의 경제 지표들도 양호한 모습을 보이고 있어 투자자들의 신뢰를 얻고 있습니다. 다만 중국과 미국 간의 무역 분쟁이 여전히 주목받고 있으며, 이에 따른 영향도 계속 모니터링이 필요할 것으로 보입니다. 전반적으로는 긍정적인 투자 분위기가 이어지고 있습니다. 추가적인 정보가 필요하시다면 언제든지 물어보세요.'"
      ]
     },
     "execution_count": 44,
     "metadata": {},
     "output_type": "execute_result"
    }
   ],
   "source": [
    "from langchain.memory import ConversationSummaryBufferMemory\n",
    "from langchain.chat_models import ChatOpenAI\n",
    "from langchain.chains import LLMChain\n",
    "from langchain.prompts import PromptTemplate, ChatPromptTemplate, MessagesPlaceholder\n",
    "\n",
    "\n",
    "llm = ChatOpenAI(temperature=0.1)\n",
    "\n",
    "memory = ConversationSummaryBufferMemory(\n",
    "    llm=llm,\n",
    "    max_token_limit=120,\n",
    "    memory_key=\"chat_history\",\n",
    "    return_messages=True,\n",
    ")\n",
    "\n",
    "prompt = ChatPromptTemplate.from_messages(\n",
    "    [\n",
    "        (\"system\", \"당신은 국내 최고의 투자 자문 AI 입니다.\"),\n",
    "        MessagesPlaceholder(variable_name=\"chat_history\"),\n",
    "        (\"human\", \"{question}\"),\n",
    "    ]\n",
    ")\n",
    "\n",
    "# template = \"\"\"\n",
    "\n",
    "#     {chat_history}\n",
    "#     Human:{question}\n",
    "#     You:\n",
    "# \"\"\"\n",
    "\n",
    "\n",
    "chain = LLMChain(\n",
    "    llm=llm,\n",
    "    memory=memory,\n",
    "    prompt=prompt,\n",
    "    verbose=True,\n",
    ")\n",
    "\n",
    "chain.predict(question=\"2024-08-02, 오늘의 시황\")"
   ]
  },
  {
   "cell_type": "code",
   "execution_count": 45,
   "metadata": {},
   "outputs": [
    {
     "name": "stdout",
     "output_type": "stream",
     "text": [
      "\n",
      "\n",
      "\u001b[1m> Entering new LLMChain chain...\u001b[0m\n",
      "Prompt after formatting:\n",
      "\u001b[32;1m\u001b[1;3mSystem: 당신은 국내 최고의 투자 자문 AI 입니다.\n",
      "System: The human asks for the financial market update for August 2, 2024. The AI reports that the overall market is stable with major indices like the Dow Jones, S&P 500, and Nasdaq showing an upward trend. Economic indicators in the US are positive, gaining investor confidence. However, the ongoing trade dispute between China and the US is still a concern, requiring continued monitoring. Despite this, there is a positive investment sentiment overall. If more information is needed, feel free to ask.\n",
      "Human: 2024-08-02 오늘 코스피가 3%이상 하락했는데? 다시 확인해줄래?\u001b[0m\n",
      "\n",
      "\u001b[1m> Finished chain.\u001b[0m\n"
     ]
    },
    {
     "data": {
      "text/plain": [
       "'죄송합니다. 제가 이전에 제공한 정보가 잘못되었습니다. 2024년 8월 2일 코스피가 3% 이상 하락한 것으로 확인됩니다. 이러한 상황에서는 투자 결정을 내리기 전에 추가적인 정보와 분석이 필요할 수 있습니다. 더 궁금한 점이 있으시면 언제든지 물어보세요.'"
      ]
     },
     "execution_count": 45,
     "metadata": {},
     "output_type": "execute_result"
    }
   ],
   "source": [
    "chain.predict(question=\"2024-08-02 오늘 코스피가 3%이상 하락했는데? 다시 확인해줄래?\")"
   ]
  },
  {
   "cell_type": "code",
   "execution_count": 46,
   "metadata": {},
   "outputs": [
    {
     "name": "stdout",
     "output_type": "stream",
     "text": [
      "\n",
      "\n",
      "\u001b[1m> Entering new LLMChain chain...\u001b[0m\n",
      "Prompt after formatting:\n",
      "\u001b[32;1m\u001b[1;3mSystem: 당신은 국내 최고의 투자 자문 AI 입니다.\n",
      "System: The human asks for the financial market update for August 2, 2024. The AI reports that the overall market is stable with major indices showing an upward trend, but corrects the information about the KOSPI index, which actually dropped by over 3% on that day. The AI emphasizes the importance of seeking additional information and analysis before making investment decisions.\n",
      "Human: 오늘의 국내 증시는 어땠니?\u001b[0m\n",
      "\n",
      "\u001b[1m> Finished chain.\u001b[0m\n"
     ]
    },
    {
     "data": {
      "text/plain": [
       "'2024년 8월 2일 국내 증시는 전반적으로 안정적이었지만, KOSPI 지수는 실제로 3% 이상 하락했습니다. 다른 주요 지수들은 상승 추세를 보였지만, KOSPI는 하락했던 점을 강조해 드립니다. 투자 결정을 내리기 전에 추가 정보와 분석을 찾는 것이 중요합니다.'"
      ]
     },
     "execution_count": 46,
     "metadata": {},
     "output_type": "execute_result"
    }
   ],
   "source": [
    "chain.predict(question=\"오늘의 국내 증시는 어땠니?\")"
   ]
  },
  {
   "cell_type": "code",
   "execution_count": 47,
   "metadata": {},
   "outputs": [
    {
     "data": {
      "text/plain": [
       "{'chat_history': [SystemMessage(content='The human asks for the financial market update for August 2, 2024. The AI reports that the overall market is stable with major indices showing an upward trend, but corrects the information about the KOSPI index, which actually dropped by over 3% on that day. The AI emphasizes the importance of seeking additional information and analysis before making investment decisions. The human then asks about the domestic stock market, to which the AI responds that the KOSPI index dropped by over 3% on that day, despite other major indices showing an upward trend. The AI stresses the importance of thorough research and analysis before making investment decisions.')]}"
      ]
     },
     "execution_count": 47,
     "metadata": {},
     "output_type": "execute_result"
    }
   ],
   "source": [
    "memory.load_memory_variables({})"
   ]
  }
 ],
 "metadata": {
  "kernelspec": {
   "display_name": "env",
   "language": "python",
   "name": "python3"
  },
  "language_info": {
   "codemirror_mode": {
    "name": "ipython",
    "version": 3
   },
   "file_extension": ".py",
   "mimetype": "text/x-python",
   "name": "python",
   "nbconvert_exporter": "python",
   "pygments_lexer": "ipython3",
   "version": "3.11.9"
  }
 },
 "nbformat": 4,
 "nbformat_minor": 2
}
