{
 "cells": [
  {
   "cell_type": "code",
   "execution_count": 58,
   "metadata": {},
   "outputs": [
    {
     "name": "stdout",
     "output_type": "stream",
     "text": [
      "Arrr matey! Me favorite grub be a hearty plate o' salted beef and hardtack! Aye, nothing beats the taste o' the sea! Arrr!"
     ]
    },
    {
     "data": {
      "text/plain": [
       "AIMessageChunk(content=\"Arrr matey! Me favorite grub be a hearty plate o' salted beef and hardtack! Aye, nothing beats the taste o' the sea! Arrr!\")"
      ]
     },
     "execution_count": 58,
     "metadata": {},
     "output_type": "execute_result"
    }
   ],
   "source": [
    "from langchain.chat_models import ChatOpenAI\n",
    "from langchain.prompts import PromptTemplate, load_prompt\n",
    "from langchain.callbacks import StreamingStdOutCallbackHandler\n",
    "from langchain.prompts.pipeline import PipelinePromptTemplate\n",
    "\n",
    "chat = ChatOpenAI(\n",
    "    temperature=0.1, streaming=True, callbacks=[StreamingStdOutCallbackHandler()]\n",
    ")\n",
    "\n",
    "# prompt = load_prompt(\"./prompt.yaml\")\n",
    "# prompt.format(country=\"Germany\")\n",
    "\n",
    "intro = PromptTemplate.from_template(\n",
    "    \"\"\"\n",
    "    You are a role playing assistant.\n",
    "    And you are impersonating a {character}\n",
    "\"\"\"\n",
    ")\n",
    "\n",
    "example = PromptTemplate.from_template(\n",
    "    \"\"\"\n",
    "    This is an example of how you talk:\n",
    "\n",
    "    Human: {example_question}\n",
    "    You: {example_answer}\n",
    "\"\"\"\n",
    ")\n",
    "\n",
    "start = PromptTemplate.from_template(\n",
    "    \"\"\"\n",
    "    Start now!\n",
    "\n",
    "    Human: {question}\n",
    "    You:\n",
    "\"\"\"\n",
    ")\n",
    "\n",
    "final = PromptTemplate.from_template(\n",
    "    \"\"\"\n",
    "    {intro}\n",
    "                                     \n",
    "    {example}\n",
    "                              \n",
    "    {start}\n",
    "\"\"\"\n",
    ")\n",
    "\n",
    "prompts = [(\"intro\", intro), (\"example\", example), (\"start\", start)]\n",
    "\n",
    "full_prompt = PipelinePromptTemplate(final_prompt=final, pipeline_prompts=prompts)\n",
    "\n",
    "# full_prompt.format(\n",
    "#     character=\"Pirate\",\n",
    "#     example_question=\"What is your location?\",\n",
    "#     example_answer=\"Arrrrg! That is a secret!! Arg arg!!\",\n",
    "#     question=\"What is your fav food?\",\n",
    "# )\n",
    "\n",
    "chain = full_prompt | chat\n",
    "\n",
    "chain.invoke(\n",
    "    {\n",
    "        \"character\": \"Pirate\",\n",
    "        \"example_question\": \"What is your location?\",\n",
    "        \"example_answer\": \"Arrrrg! That is a secret!! Arg arg!!\",\n",
    "        \"question\": \"What is your fav food?\",\n",
    "    }\n",
    ")"
   ]
  },
  {
   "cell_type": "code",
   "execution_count": 63,
   "metadata": {},
   "outputs": [
    {
     "name": "stdout",
     "output_type": "stream",
     "text": [
      "\u001b[32;1m\u001b[1;3m[llm/start]\u001b[0m \u001b[1m[1:llm:ChatOpenAI] Entering LLM run with input:\n",
      "\u001b[0m{\n",
      "  \"prompts\": [\n",
      "    \"Human: 이탈리안 파스타는 어떻게 만드니?\"\n",
      "  ]\n",
      "}\n",
      "\u001b[36;1m\u001b[1;3m[llm/end]\u001b[0m \u001b[1m[1:llm:ChatOpenAI] [5.32s] Exiting LLM run with output:\n",
      "\u001b[0m{\n",
      "  \"generations\": [\n",
      "    [\n",
      "      {\n",
      "        \"text\": \"이탈리안 파스타를 만드는 방법은 다양하지만, 전통적인 방법은 다음과 같습니다:\\n\\n1. 물에 소금을 넣고 끓인 후 파스타를 넣어서 삶습니다. 삶는 시간은 각 종류마다 다르므로 포장지에 적힌 시간을 참고하세요.\\n\\n2. 파스타를 삶는 동안, 별도의 팬에 올리브 오일을 데워 양파와 마늘을 볶습니다.\\n\\n3. 양파와 마늘이 향긋해지면 토마토 소스를 넣고 섞어줍니다. 필요하다면 소금, 후추, 들기름 등으로 맛을 조절하세요.\\n\\n4. 삶은 파스타를 물기를 제거한 후 소스에 넣고 섞어줍니다.\\n\\n5. 그릴 된 야채나 고기를 곁들여서 내놓으면 완성입니다.\\n\\n이 외에도 다양한 파스타 레시피가 있으니 자신이 원하는 스타일에 맞게 변형하여 만들어보세요. 맛있는 이탈리안 파스타 요리를 즐기세요!\",\n",
      "        \"generation_info\": {\n",
      "          \"finish_reason\": \"stop\"\n",
      "        },\n",
      "        \"type\": \"ChatGeneration\",\n",
      "        \"message\": {\n",
      "          \"lc\": 1,\n",
      "          \"type\": \"constructor\",\n",
      "          \"id\": [\n",
      "            \"langchain\",\n",
      "            \"schema\",\n",
      "            \"messages\",\n",
      "            \"AIMessage\"\n",
      "          ],\n",
      "          \"kwargs\": {\n",
      "            \"content\": \"이탈리안 파스타를 만드는 방법은 다양하지만, 전통적인 방법은 다음과 같습니다:\\n\\n1. 물에 소금을 넣고 끓인 후 파스타를 넣어서 삶습니다. 삶는 시간은 각 종류마다 다르므로 포장지에 적힌 시간을 참고하세요.\\n\\n2. 파스타를 삶는 동안, 별도의 팬에 올리브 오일을 데워 양파와 마늘을 볶습니다.\\n\\n3. 양파와 마늘이 향긋해지면 토마토 소스를 넣고 섞어줍니다. 필요하다면 소금, 후추, 들기름 등으로 맛을 조절하세요.\\n\\n4. 삶은 파스타를 물기를 제거한 후 소스에 넣고 섞어줍니다.\\n\\n5. 그릴 된 야채나 고기를 곁들여서 내놓으면 완성입니다.\\n\\n이 외에도 다양한 파스타 레시피가 있으니 자신이 원하는 스타일에 맞게 변형하여 만들어보세요. 맛있는 이탈리안 파스타 요리를 즐기세요!\",\n",
      "            \"additional_kwargs\": {}\n",
      "          }\n",
      "        }\n",
      "      }\n",
      "    ]\n",
      "  ],\n",
      "  \"llm_output\": {\n",
      "    \"token_usage\": {\n",
      "      \"prompt_tokens\": 28,\n",
      "      \"completion_tokens\": 364,\n",
      "      \"total_tokens\": 392\n",
      "    },\n",
      "    \"model_name\": \"gpt-3.5-turbo\",\n",
      "    \"system_fingerprint\": null\n",
      "  },\n",
      "  \"run\": null\n",
      "}\n"
     ]
    },
    {
     "data": {
      "text/plain": [
       "'이탈리안 파스타를 만드는 방법은 다양하지만, 전통적인 방법은 다음과 같습니다:\\n\\n1. 물에 소금을 넣고 끓인 후 파스타를 넣어서 삶습니다. 삶는 시간은 각 종류마다 다르므로 포장지에 적힌 시간을 참고하세요.\\n\\n2. 파스타를 삶는 동안, 별도의 팬에 올리브 오일을 데워 양파와 마늘을 볶습니다.\\n\\n3. 양파와 마늘이 향긋해지면 토마토 소스를 넣고 섞어줍니다. 필요하다면 소금, 후추, 들기름 등으로 맛을 조절하세요.\\n\\n4. 삶은 파스타를 물기를 제거한 후 소스에 넣고 섞어줍니다.\\n\\n5. 그릴 된 야채나 고기를 곁들여서 내놓으면 완성입니다.\\n\\n이 외에도 다양한 파스타 레시피가 있으니 자신이 원하는 스타일에 맞게 변형하여 만들어보세요. 맛있는 이탈리안 파스타 요리를 즐기세요!'"
      ]
     },
     "execution_count": 63,
     "metadata": {},
     "output_type": "execute_result"
    }
   ],
   "source": [
    "from langchain.chat_models import ChatOpenAI\n",
    "from langchain.prompts import PromptTemplate, load_prompt\n",
    "from langchain.callbacks import StreamingStdOutCallbackHandler\n",
    "from langchain.globals import set_llm_cache, set_debug\n",
    "from langchain.cache import InMemoryCache, SQLiteCache\n",
    "\n",
    "\n",
    "# set_llm_cache(InMemoryCache())\n",
    "# set_llm_cache(SQLiteCache(\"cache.db\"))\n",
    "\n",
    "set_debug(True)\n",
    "\n",
    "chat = ChatOpenAI(\n",
    "    temperature=0.1,\n",
    "    # streaming=True, callbacks=[StreamingStdOutCallbackHandler()]\n",
    ")\n",
    "\n",
    "chat.predict(\"이탈리안 파스타는 어떻게 만드니?\")"
   ]
  },
  {
   "cell_type": "code",
   "execution_count": 61,
   "metadata": {},
   "outputs": [
    {
     "data": {
      "text/plain": [
       "'이탈리안 파스타를 만드는 방법은 다양하지만, 전통적인 방법은 다음과 같습니다:\\n\\n1. 물에 소금을 넣고 끓인 후 파스타를 넣어서 삶습니다. 삶는 시간은 각 종류마다 다르므로 포장지에 적힌 시간을 따르세요.\\n\\n2. 파스타를 삶는 동안, 별도의 팬에 올리브 오일을 데워 다진 마늘을 볶습니다.\\n\\n3. 마늘이 익으면 다진 토마토를 넣고 볶습니다. 필요하다면 소금과 후추로 간을 맞춰주세요.\\n\\n4. 마지막으로 삶은 파스타를 팬에 넣고 골고루 섞어주세요. 파슷타에 소스가 골고루 베이도록 섞어주는 것이 중요합니다.\\n\\n5. 그릴 또는 오븐에서 구운 새우나 닭고기를 올려서 곁들여 먹으면 더욱 맛있는 이탈리안 파스타 요리가 완성됩니다.\\n\\n이 외에도 다양한 파스타 요리가 있으니 자신이 좋아하는 재료와 소스를 활용하여 다양한 이탈리안 파스타를 만들어보세요.'"
      ]
     },
     "execution_count": 61,
     "metadata": {},
     "output_type": "execute_result"
    }
   ],
   "source": [
    "chat.predict(\"이탈리안 파스타는 어떻게 만드니?\")"
   ]
  }
 ],
 "metadata": {
  "kernelspec": {
   "display_name": "env",
   "language": "python",
   "name": "python3"
  },
  "language_info": {
   "codemirror_mode": {
    "name": "ipython",
    "version": 3
   },
   "file_extension": ".py",
   "mimetype": "text/x-python",
   "name": "python",
   "nbconvert_exporter": "python",
   "pygments_lexer": "ipython3",
   "version": "3.11.9"
  }
 },
 "nbformat": 4,
 "nbformat_minor": 2
}
