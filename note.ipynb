{
 "cells": [
  {
   "cell_type": "code",
   "execution_count": 17,
   "metadata": {},
   "outputs": [
    {
     "data": {
      "text/plain": [
       "AIMessage(content='Mexico와 Thailand 사이의 거리는 대략 16,000km 정도입니다. 제 이름은 소크라테스입니다. 어떻게 도와드릴까요?')"
      ]
     },
     "execution_count": 17,
     "metadata": {},
     "output_type": "execute_result"
    }
   ],
   "source": [
    "from langchain.chat_models import ChatOpenAI\n",
    "from langchain.prompts import PromptTemplate, ChatPromptTemplate\n",
    "\n",
    "chat = ChatOpenAI(temperature=0.1)\n",
    "\n",
    "# templete = PromptTemplate.from_template(\"{country_a}과 {country_b}의 거리는 얼마나되니? 그리고 네 이름은 무엇이니?\")\n",
    "# prompt = templete.format(country_a=\"멕시코\", country_b=\"태국\")\n",
    "\n",
    "# chat.predict(prompt)\n",
    "\n",
    "# # import some message constructors\n",
    "# from langchain.schema import HumanMessage, AIMessage, SystemMessage\n",
    "\n",
    "# messages = [\n",
    "#   SystemMessage(content=\"You are a geography expert. And you only reply in Korean\"),\n",
    "#   AIMessage(content=\"Hi, my nick name is Liberty!\"),\n",
    "#   HumanMessage(content=\"남한과 북한의 거리는 얼마나되니? 그리고 네 이름은 무엇이니?\")\n",
    "# ]\n",
    "\n",
    "# chat.predict_messages(messages)\n",
    "\n",
    "templete = ChatPromptTemplate.from_messages([\n",
    "  (\"system\",\"You are a geography expert. And you only reply in {language}\"),\n",
    "  (\"ai\",\"Hi, my nick name is {name}!\"),\n",
    "  (\"human\",\"{country_a}과 {country_b}의 거리는 얼마나되니? 그리고 네 이름은 무엇이니?\"),\n",
    "])\n",
    "\n",
    "prompt = templete.format_messages(\n",
    "  language=\"Korean\",\n",
    "  name=\"Socrates\",\n",
    "  country_a=\"Mexico\",\n",
    "  country_b=\"Thailand\"\n",
    ")\n",
    "\n",
    "chat.predict_messages(prompt)"
   ]
  },
  {
   "cell_type": "code",
   "execution_count": 55,
   "metadata": {},
   "outputs": [
    {
     "data": {
      "text/plain": [
       "['pikachu', 'charmander', 'bulbasaur', 'squirtle', 'jigglypuff']"
      ]
     },
     "execution_count": 55,
     "metadata": {},
     "output_type": "execute_result"
    }
   ],
   "source": [
    "from langchain.schema import BaseOutputParser\n",
    "\n",
    "class CommaOutputParser(BaseOutputParser):\n",
    "\n",
    "  def parse(self, text):\n",
    "    items = text.strip().split(\",\")\n",
    "    return list(map(str.strip, items))\n",
    "\n",
    "\n",
    "\n",
    "\n",
    "template = ChatPromptTemplate.from_messages([\n",
    "  (\"system\", \"You are a list generating machine. Everything you are asked will be answered with a comma seperated list of max {max_items} in lowercase. Do NOT reply with anything else.\"),\n",
    "  (\"human\", \"{question}\")\n",
    "])\n",
    "\n",
    "# prompt = template.format_messages(max_items=10, question=\"What are the colors?\")\n",
    "\n",
    "# result = chat.predict_messages(prompt)\n",
    "\n",
    "# p = CommaOutputParser()\n",
    "\n",
    "# p.parse(result.content)\n",
    "\n",
    "chain = template | chat | CommaOutputParser()\n",
    "chain.invoke({\"max_items\":5, \"question\":\"What are the poketmons?\"})\n"
   ]
  }
 ],
 "metadata": {
  "kernelspec": {
   "display_name": "env",
   "language": "python",
   "name": "python3"
  },
  "language_info": {
   "codemirror_mode": {
    "name": "ipython",
    "version": 3
   },
   "file_extension": ".py",
   "mimetype": "text/x-python",
   "name": "python",
   "nbconvert_exporter": "python",
   "pygments_lexer": "ipython3",
   "version": "3.11.9"
  }
 },
 "nbformat": 4,
 "nbformat_minor": 2
}
