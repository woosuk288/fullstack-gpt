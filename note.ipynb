{
 "cells": [
  {
   "cell_type": "code",
   "execution_count": 36,
   "metadata": {},
   "outputs": [
    {
     "data": {
      "text/plain": [
       "{'history': 'Human: hi\\nAI: How are you?'}"
      ]
     },
     "execution_count": 36,
     "metadata": {},
     "output_type": "execute_result"
    }
   ],
   "source": [
    "from langchain.memory import ConversationBufferMemory\n",
    "\n",
    "memory = ConversationBufferMemory()\n",
    "\n",
    "memory.save_context({\"input\": \"hi\"}, {\"output\": \"How are you?\"})\n",
    "\n",
    "memory.load_memory_variables({})"
   ]
  },
  {
   "cell_type": "code",
   "execution_count": 41,
   "metadata": {},
   "outputs": [],
   "source": [
    "from langchain.memory import ConversationBufferWindowMemory\n",
    "\n",
    "memory = ConversationBufferWindowMemory(return_messages=True, k=4)\n",
    "\n",
    "\n",
    "def add_message(input, output):\n",
    "    memory.save_context({\"input\": input}, {\"output\": output})\n",
    "\n",
    "\n",
    "add_message(1, 1)\n",
    "\n",
    "add_message(2, 2)\n",
    "add_message(3, 3)\n",
    "add_message(4, 4)\n",
    "\n",
    "memory.load_memory_variables({})\n",
    "\n",
    "add_message(5, 5)"
   ]
  },
  {
   "cell_type": "code",
   "execution_count": 2,
   "metadata": {},
   "outputs": [],
   "source": [
    "# from langchain.memory import ConversationSummaryMemory\n",
    "from langchain.memory import ConversationSummaryBufferMemory\n",
    "from langchain.chat_models import ChatOpenAI\n",
    "\n",
    "llm = ChatOpenAI(temperature=0.1)\n",
    "\n",
    "# memory = ConversationSummaryMemory(llm=llm)\n",
    "memory = ConversationSummaryBufferMemory(llm=llm, max_token_limit=150)\n",
    "\n",
    "\n",
    "def add_message(input, output):\n",
    "    memory.save_context({\"input\": input}, {\"output\": output})\n",
    "\n",
    "\n",
    "def get_history():\n",
    "    return memory.load_memory_variables({})\n",
    "\n",
    "\n",
    "add_message(\"Hi I'm Wooseok, I live in South Korea\", \"Wow that is so cool!\")\n",
    "add_message(\"한국은 정말 멋진 곳이야.\", \"나도 갈 수 있으면 좋을텐데...\")"
   ]
  },
  {
   "cell_type": "code",
   "execution_count": 4,
   "metadata": {},
   "outputs": [
    {
     "data": {
      "text/plain": [
       "{'history': \"Human: Hi I'm Wooseok, I live in South Korea\\nAI: Wow that is so cool!\\nHuman: 한국은 정말 멋진 곳이야.\\nAI: 나도 갈 수 있으면 좋을텐데...\"}"
      ]
     },
     "execution_count": 4,
     "metadata": {},
     "output_type": "execute_result"
    }
   ],
   "source": [
    "get_history()"
   ]
  },
  {
   "cell_type": "code",
   "execution_count": 5,
   "metadata": {},
   "outputs": [],
   "source": [
    "add_message(\"한국의 수도인 서울은 세계적인 도시 중 하나야.\", \"와, 정말?\")"
   ]
  },
  {
   "cell_type": "code",
   "execution_count": 7,
   "metadata": {},
   "outputs": [
    {
     "data": {
      "text/plain": [
       "{'history': \"Human: Hi I'm Wooseok, I live in South Korea\\nAI: Wow that is so cool!\\nHuman: 한국은 정말 멋진 곳이야.\\nAI: 나도 갈 수 있으면 좋을텐데...\\nHuman: 한국의 수도인 서울은 세계적인 도시 중 하나야.\\nAI: 와, 정말?\"}"
      ]
     },
     "execution_count": 7,
     "metadata": {},
     "output_type": "execute_result"
    }
   ],
   "source": [
    "get_history()"
   ]
  },
  {
   "cell_type": "code",
   "execution_count": 13,
   "metadata": {},
   "outputs": [],
   "source": [
    "add_message(\n",
    "    \"한국의 대표적인 음식은 김치와 비빔밥 그리고 내가 제일 좋아하는 떡볶이가 있어.\",\n",
    "    \"나 떡볶이 너무 좋아해!!!\",\n",
    ")"
   ]
  },
  {
   "cell_type": "code",
   "execution_count": 14,
   "metadata": {},
   "outputs": [
    {
     "data": {
      "text/plain": [
       "{'history': 'System: Wooseok from South Korea introduces himself to the AI, who expresses admiration for this information. Wooseok mentions that South Korea is a really cool place, saying \"한국은 정말 멋진 곳이야.\" The AI responds by expressing a desire to visit South Korea as well. Wooseok adds that Seoul, the capital of South Korea, is one of the world\\'s great cities, to which the AI responds with surprise. The human mentions that representative foods of Korea are kimchi, bibimbap, and their favorite, tteokbokki. The AI enthusiastically agrees, saying they love tteokbokki too. The human then adds that tteokbokki is their favorite Korean food.\\nHuman: 한국의 대표적인 음식은 김치와 비빔밥 그리고 내가 제일 좋아하는 떡볶이가 있어.\\nAI: 나 떡볶이 너무 좋아해!!!\\nHuman: 한국의 대표적인 음식은 김치와 비빔밥 그리고 내가 제일 좋아하는 떡볶이가 있어.\\nAI: 나 떡볶이 너무 좋아해!!!'}"
      ]
     },
     "execution_count": 14,
     "metadata": {},
     "output_type": "execute_result"
    }
   ],
   "source": [
    "get_history()"
   ]
  },
  {
   "cell_type": "code",
   "execution_count": null,
   "metadata": {},
   "outputs": [],
   "source": []
  }
 ],
 "metadata": {
  "kernelspec": {
   "display_name": "env",
   "language": "python",
   "name": "python3"
  },
  "language_info": {
   "codemirror_mode": {
    "name": "ipython",
    "version": 3
   },
   "file_extension": ".py",
   "mimetype": "text/x-python",
   "name": "python",
   "nbconvert_exporter": "python",
   "pygments_lexer": "ipython3",
   "version": "3.11.9"
  }
 },
 "nbformat": 4,
 "nbformat_minor": 2
}
