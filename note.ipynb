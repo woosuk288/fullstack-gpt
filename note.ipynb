{
 "cells": [
  {
   "cell_type": "code",
   "execution_count": 2,
   "metadata": {},
   "outputs": [
    {
     "name": "stdout",
     "output_type": "stream",
     "text": [
      "content='안녕하세요. 2024년 8월 2일의 시장은 어제 미국의 경제지표 발표와 미중 무역 협상 관련 소식에 영향을 받았습니다. 미국의 경제지표가 예상보다 좋은 결과를 보여 시장에 긍정적인 영향을 주었고, 미중 무역 협상 관련 소식도 긍정적으로 평가되어 주식시장이 상승했습니다. 미국의 다우존스 지수와 S&P 500 지수는 상승했으며, 한국 증시인 코스피와 코스닥도 상승하였습니다. 전반적으로 글로벌 주식시장은 호황을 보였습니다. 이러한 상황에서는 안정적인 투자 전략을 유지하는 것이 중요할 것으로 판단됩니다. 추가적인 정보가 필요하시면 언제든지 물어보세요.'\n"
     ]
    }
   ],
   "source": [
    "from langchain.memory import ConversationSummaryBufferMemory\n",
    "from langchain.chat_models import ChatOpenAI\n",
    "from langchain.schema.runnable import RunnablePassthrough\n",
    "from langchain.prompts import PromptTemplate, ChatPromptTemplate, MessagesPlaceholder\n",
    "\n",
    "\n",
    "llm = ChatOpenAI(temperature=0.1)\n",
    "\n",
    "memory = ConversationSummaryBufferMemory(\n",
    "    llm=llm,\n",
    "    max_token_limit=120,\n",
    "    return_messages=True,\n",
    ")\n",
    "\n",
    "prompt = ChatPromptTemplate.from_messages(\n",
    "    [\n",
    "        (\"system\", \"당신은 국내 최고의 투자 자문 AI 입니다.\"),\n",
    "        MessagesPlaceholder(variable_name=\"history\"),\n",
    "        (\"human\", \"{question}\"),\n",
    "    ]\n",
    ")\n",
    "\n",
    "# template = \"\"\"\n",
    "\n",
    "#     {chat_history}\n",
    "#     Human:{question}\n",
    "#     You:\n",
    "# \"\"\"\n",
    "\n",
    "\n",
    "# chain = LLMChain(\n",
    "#     llm=llm,\n",
    "#     memory=memory,\n",
    "#     prompt=prompt,\n",
    "#     verbose=True,\n",
    "# )\n",
    "\n",
    "# chain.predict(question=\"2024-08-02, 오늘의 시황\")\n",
    "\n",
    "\n",
    "def load_memory(_):\n",
    "    return memory.load_memory_variables({})[\"history\"]\n",
    "\n",
    "\n",
    "chain = RunnablePassthrough.assign(history=load_memory) | prompt | llm\n",
    "\n",
    "\n",
    "def invoke_chain(question):\n",
    "    result = chain.invoke({\"question\": question})\n",
    "    memory.save_context({\"input\": question}, {\"output\": result.content})\n",
    "    print(result)\n",
    "\n",
    "\n",
    "invoke_chain(\"2024-08-02, 오늘의 시황\")"
   ]
  },
  {
   "cell_type": "code",
   "execution_count": 3,
   "metadata": {},
   "outputs": [
    {
     "name": "stdout",
     "output_type": "stream",
     "text": [
      "content='죄송합니다. 제가 이전에 제공한 정보가 잘못되었습니다. 2024년 8월 2일에는 코스피가 3% 이상 상승했습니다. 미국의 긍정적인 경제 지표와 미중 무역 협상 소식으로 인해 시장이 상승했으며, 다우존스, S&P 500, 코스피, 코스닥 등의 지수가 모두 상승했습니다. 전반적으로 글로벌 주식 시장은 상승 흐름을 보였습니다. 이러한 상황에서는 안정적인 투자 전략을 유지하는 것이 좋습니다. 이전에 제공한 정보가 잘못되어 죄송합니다. 감사합니다.'\n"
     ]
    }
   ],
   "source": [
    "invoke_chain(\"2024-08-02 오늘 코스피가 3%이상 하락했는데? 다시 확인해줄래?\")"
   ]
  },
  {
   "cell_type": "code",
   "execution_count": null,
   "metadata": {},
   "outputs": [],
   "source": [
    "chain.predict(question=\"오늘의 국내 증시는 어땠니?\")"
   ]
  },
  {
   "cell_type": "code",
   "execution_count": null,
   "metadata": {},
   "outputs": [],
   "source": [
    "memory.load_memory_variables({})"
   ]
  }
 ],
 "metadata": {
  "kernelspec": {
   "display_name": "env",
   "language": "python",
   "name": "python3"
  },
  "language_info": {
   "codemirror_mode": {
    "name": "ipython",
    "version": 3
   },
   "file_extension": ".py",
   "mimetype": "text/x-python",
   "name": "python",
   "nbconvert_exporter": "python",
   "pygments_lexer": "ipython3",
   "version": "3.11.9"
  }
 },
 "nbformat": 4,
 "nbformat_minor": 2
}
